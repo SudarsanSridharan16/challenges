{
 "metadata": {
  "name": "",
  "signature": "sha256:f4925e4e696b24163b523b1f77f5fdc5fc9066586061d3d4b8f8351e31fff27e"
 },
 "nbformat": 3,
 "nbformat_minor": 0,
 "worksheets": [
  {
   "cells": [
    {
     "cell_type": "markdown",
     "metadata": {},
     "source": [
      "# Queue using Two Stacks"
     ]
    },
    {
     "cell_type": "code",
     "collapsed": false,
     "input": [
      "import collections\n",
      "\n",
      "\n",
      "class MyQueue(object):\n",
      "    \"\"\"Implement a Queue using two stacks.\n",
      "    \n",
      "    pop() / insert() on regular lists is O(n), because in Python lists are continguous\n",
      "    arrays that need resizing. Instead use collections.deque, which supports O(1)\n",
      "    append() (to right) and pop() (from right). See:\n",
      "    http://docs.python.org/2/library/collections.html#collections.deque\n",
      "    \"\"\"    \n",
      "    \n",
      "    def __init__(self, stack_implementation=collections.deque):\n",
      "        self.stack1 = stack_implementation()\n",
      "        self.stack2 = stack_implementation()\n",
      "    \n",
      "    def enqueue(self, item):\n",
      "        self.stack1.append(item)\n",
      "    \n",
      "    def dequeue(self):\n",
      "        if len(self.stack2) != 0:\n",
      "            return self.stack2.pop()\n",
      "        while len(self.stack1) != 0:\n",
      "            self.stack2.append(self.stack1.pop())\n",
      "        return self.stack2.pop()   "
     ],
     "language": "python",
     "metadata": {},
     "outputs": [],
     "prompt_number": 1
    },
    {
     "cell_type": "markdown",
     "metadata": {},
     "source": [
      "## Tests"
     ]
    },
    {
     "cell_type": "code",
     "collapsed": false,
     "input": [
      "import unittest\n",
      "\n",
      "class MyQueueTests(unittest.TestCase):\n",
      "    \n",
      "    def setUp(self):\n",
      "        self.q = MyQueue()\n",
      "        self.q2 = MyQueue(list)\n",
      "        \n",
      "    def test_single_op(self):\n",
      "        self.q.enqueue(1)\n",
      "        self.assertEqual(self.q.dequeue(), 1)\n",
      "    \n",
      "    def test_five_serial_ops(self):\n",
      "        sequence = [1, 2, 3, 4, 5]\n",
      "        for x in sequence:\n",
      "            self.q.enqueue(x)\n",
      "        for x in sequence:\n",
      "            self.assertEqual(self.q.dequeue(), x)\n",
      "    \n",
      "    def test_five_interleaved_ops(self):\n",
      "        self.q.enqueue(1)\n",
      "        self.q.enqueue(2)\n",
      "        self.q.enqueue(3)\n",
      "        self.assertEqual(self.q.dequeue(), 1)\n",
      "        self.assertEqual(self.q.dequeue(), 2)\n",
      "        self.q.enqueue(4)\n",
      "        self.q.enqueue(5)\n",
      "        self.assertEqual(self.q.dequeue(), 3)\n",
      "        self.assertEqual(self.q.dequeue(), 4)\n",
      "        self.assertEqual(self.q.dequeue(), 5)\n",
      "    \n",
      "    def test_list_implementation(self):\n",
      "        self.q2.enqueue(1)\n",
      "        self.assertEqual(self.q2.dequeue(), 1)"
     ],
     "language": "python",
     "metadata": {},
     "outputs": [],
     "prompt_number": 2
    },
    {
     "cell_type": "code",
     "collapsed": false,
     "input": [
      "suite = unittest.defaultTestLoader.loadTestsFromTestCase(MyQueueTests)\n",
      "unittest.TextTestRunner().run(suite)"
     ],
     "language": "python",
     "metadata": {},
     "outputs": [
      {
       "output_type": "stream",
       "stream": "stderr",
       "text": [
        "."
       ]
      },
      {
       "output_type": "stream",
       "stream": "stderr",
       "text": [
        "."
       ]
      },
      {
       "output_type": "stream",
       "stream": "stderr",
       "text": [
        "."
       ]
      },
      {
       "output_type": "stream",
       "stream": "stderr",
       "text": [
        "."
       ]
      },
      {
       "output_type": "stream",
       "stream": "stderr",
       "text": [
        "\n",
        "----------------------------------------------------------------------\n",
        "Ran 4 tests in 0.003s\n",
        "\n",
        "OK\n"
       ]
      },
      {
       "metadata": {},
       "output_type": "pyout",
       "prompt_number": 3,
       "text": [
        "<unittest.runner.TextTestResult run=4 errors=0 failures=0>"
       ]
      }
     ],
     "prompt_number": 3
    },
    {
     "cell_type": "markdown",
     "metadata": {},
     "source": [
      "## Performance of `list` vs. `collections.deque`"
     ]
    },
    {
     "cell_type": "code",
     "collapsed": false,
     "input": [
      "def work_to_do(q):\n",
      "    q.enqueue(1)\n",
      "    q.enqueue(2)\n",
      "    q.enqueue(3)\n",
      "    q.enqueue(4)\n",
      "    q.enqueue(5)\n",
      "    q.enqueue(6)\n",
      "    q.enqueue(7)\n",
      "    q.dequeue()\n",
      "    q.dequeue()\n",
      "    q.dequeue()\n",
      "    q.enqueue(4)\n",
      "    q.enqueue(5)\n",
      "    q.dequeue()\n",
      "    q.dequeue()\n",
      "    q.dequeue()\n",
      "    q.dequeue()\n",
      "    q.dequeue()\n",
      "    q.dequeue()\n",
      "\n",
      "print(\"Performance of collections.deque() implementation...\")\n",
      "%timeit work_to_do(MyQueue())\n",
      "print(\"Performance of list() implementation...\")\n",
      "%timeit work_to_do(MyQueue(list))"
     ],
     "language": "python",
     "metadata": {},
     "outputs": [
      {
       "output_type": "stream",
       "stream": "stdout",
       "text": [
        "Performance of collections.deque() implementation...\n",
        "100000 loops, best of 3: 15.6 \u00b5s per loop"
       ]
      },
      {
       "output_type": "stream",
       "stream": "stdout",
       "text": [
        "\n",
        "Performance of list() implementation...\n",
        "100000 loops, best of 3: 16.8 \u00b5s per loop"
       ]
      },
      {
       "output_type": "stream",
       "stream": "stdout",
       "text": [
        "\n"
       ]
      }
     ]
    },
    {
     "cell_type": "markdown",
     "metadata": {},
     "source": [
      "## Approximate time complexity"
     ]
    },
    {
     "cell_type": "code",
     "collapsed": false,
     "input": [
      "import time\n",
      "\n",
      "import pandas as pd\n",
      "import numpy as np\n",
      "import matplotlib.pyplot as plt\n",
      "%matplotlib inline\n",
      "\n",
      "\n",
      "def work_to_do(q, size, reps=5):\n",
      "    results = []\n",
      "    for i in xrange(reps):\n",
      "        start = time.time()\n",
      "        for i in xrange(size):\n",
      "            q.enqueue(i)\n",
      "        for i in xrange(size):\n",
      "            q.dequeue()\n",
      "        results.append(time.time() - start)\n",
      "    return np.median(results)\n",
      "\n",
      "xs = np.linspace(1, 500000, num=5).astype(np.int64)\n",
      "ys = map(lambda x: work_to_do(MyQueue(), x), xs)\n",
      "plt.title(\"Total number of serial enqueue() then dequeue() vs. total time\")\n",
      "plt.xlabel(\"Total number of serial enqueue() then dequeue() operations\")\n",
      "plt.ylabel(\"Total time required (seconds)\")\n",
      "plt.plot(xs, ys)"
     ],
     "language": "python",
     "metadata": {},
     "outputs": []
    },
    {
     "cell_type": "code",
     "collapsed": false,
     "input": [
      "from IPython.core.display import HTML\n",
      "def css_styling():\n",
      "    styles = open(\"custom.css\", \"r\").read()\n",
      "    return HTML(styles)\n",
      "css_styling()"
     ],
     "language": "python",
     "metadata": {},
     "outputs": []
    },
    {
     "cell_type": "code",
     "collapsed": false,
     "input": [
      "%autosave 10"
     ],
     "language": "python",
     "metadata": {},
     "outputs": []
    }
   ],
   "metadata": {}
  }
 ]
}